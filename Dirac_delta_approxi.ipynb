{
 "cells": [
  {
   "cell_type": "code",
   "execution_count": 1,
   "metadata": {},
   "outputs": [],
   "source": [
    "#Author: YU Wenshan\n",
    "#Date: 2024-3-16"
   ]
  },
  {
   "cell_type": "markdown",
   "metadata": {},
   "source": [
    "Approximation of Dirac delta function $\\delta(x)$ which satisfies:\n",
    "\n",
    "\n",
    "$\\delta(0) = +\\infty$, $\\delta(x) = 0$ for any $ x \\neq 0$ and $\\int_{\\mathbb{R}}\\delta(x) dx = 1$\n",
    "\n",
    "To approximate the above distribution, we construct the so-called delta-like approximation:\n",
    "$\\phi_{\\epsilon} = \\pi^{-n/2}\\epsilon^{-n} \\exp({-(\\frac{x}{\\epsilon})^2})$ via the famous Gaussian Kernel $\\exp({-x^2})$.\n",
    "\n",
    "We have $\\phi_{\\epsilon} \\rightarrow \\delta(x)$ when $\\epsilon \\rightarrow 0$.\n",
    "\n",
    "Proof:\n",
    "For any test function $\\psi(x) \\in C_c^{\\infty}(\\mathbb{R^n})$, by changing of variables: $x = \\epsilon y$, we have\n",
    "$$\n",
    "\\pi^{-n/2} \\int_{\\mathbb{R^n}} \\epsilon^{-n} \\exp({-(\\frac{x}{\\epsilon})^2})\\psi(x)dx = \\pi^{-n/2} \\int_{\\mathbb{R^n}}  \\exp({-y^2})\\psi(\\epsilon y)dy\n",
    "$$\n",
    "then let $\\epsilon \\rightarrow 0$, \n",
    "$$\n",
    " \\pi^{-n/2}\\int_{\\mathbb{R^n}}  \\exp({-y^2})\\psi(0 )dy \n",
    " = \\pi^{-n/2}\\int_{\\mathbb{R^n}} \\exp({-y^2})dy\\psi(0) \n",
    " = \\psi(0) =: \\langle \\delta, \\psi \\rangle\n",
    "$$"
   ]
  },
  {
   "cell_type": "code",
   "execution_count": 2,
   "metadata": {},
   "outputs": [],
   "source": [
    "import numpy as np\n",
    "import matplotlib.pyplot as plt\n",
    "from scipy.integrate import trapz,quad    # quad: built-in \n",
    "from scipy.integrate import fixed_quad    # Gaussion quadrature rule "
   ]
  },
  {
   "cell_type": "code",
   "execution_count": 3,
   "metadata": {},
   "outputs": [],
   "source": [
    "def Gaussion_Kernel(x):\n",
    "    return np.exp(-abs(x)**2)\n",
    "\n",
    "def Dirac_delta_approximation(x,epsilon,dim,mass):\n",
    "    if dim == 1:\n",
    "        return 1/mass*epsilon**-1*Gaussion_Kernel(x/epsilon)\n",
    "    else:\n",
    "        print(\"error!\")"
   ]
  },
  {
   "cell_type": "code",
   "execution_count": 13,
   "metadata": {},
   "outputs": [
    {
     "name": "stdout",
     "output_type": "stream",
     "text": [
      "1.772453850905516\n"
     ]
    },
    {
     "name": "stderr",
     "output_type": "stream",
     "text": [
      "/var/folders/34/y8hf69sn049cs70dp88nv1h00000gn/T/ipykernel_21233/404961842.py:3: DeprecationWarning: 'scipy.integrate.trapz' is deprecated in favour of 'scipy.integrate.trapezoid' and will be removed in SciPy 1.14.0\n",
      "  I_trapz = trapz(Gaussion_Kernel(x),x)    # trapzoidal rules;\n"
     ]
    }
   ],
   "source": [
    "x = np.linspace(-200, 200, 200000)\n",
    "#print(x)\n",
    "I_trapz = trapz(Gaussion_Kernel(x),x)    # trapzoidal rules;\n",
    "print(I_trapz)"
   ]
  },
  {
   "cell_type": "code",
   "execution_count": 5,
   "metadata": {},
   "outputs": [
    {
     "data": {
      "text/plain": [
       "1.7724538509055159"
      ]
     },
     "execution_count": 5,
     "metadata": {},
     "output_type": "execute_result"
    }
   ],
   "source": [
    "I_quad = quad(lambda x: Gaussion_Kernel(x), -np.inf, +np.inf)[0]\n",
    "I_quad"
   ]
  },
  {
   "cell_type": "code",
   "execution_count": 6,
   "metadata": {},
   "outputs": [
    {
     "name": "stdout",
     "output_type": "stream",
     "text": [
      "(0.0, 0.0)\n"
     ]
    }
   ],
   "source": [
    "I = quad(lambda x: np.sin(x),-np.inf,+np.inf)    # quad:the best performance in scipy.integrate for any function;\n",
    "print(I)"
   ]
  },
  {
   "cell_type": "code",
   "execution_count": 16,
   "metadata": {},
   "outputs": [
    {
     "data": {
      "text/plain": [
       "(1.7724538508571717, None)"
      ]
     },
     "execution_count": 16,
     "metadata": {},
     "output_type": "execute_result"
    }
   ],
   "source": [
    "f = lambda x: np.exp(-abs(x)**2)\n",
    "I_gauss_quad = fixed_quad(f, -200, +200, n= 1000)\n",
    "I_gauss_quad\n"
   ]
  },
  {
   "cell_type": "code",
   "execution_count": 12,
   "metadata": {},
   "outputs": [
    {
     "name": "stdout",
     "output_type": "stream",
     "text": [
      "1.7724538509055159\n"
     ]
    }
   ],
   "source": [
    "gauss_integral_exact = np.sqrt(np.pi)\n",
    "print(gauss_integral_exact)"
   ]
  },
  {
   "cell_type": "code",
   "execution_count": 10,
   "metadata": {},
   "outputs": [
    {
     "name": "stderr",
     "output_type": "stream",
     "text": [
      "/var/folders/34/y8hf69sn049cs70dp88nv1h00000gn/T/ipykernel_21233/1576564390.py:7: DeprecationWarning: 'scipy.integrate.trapz' is deprecated in favour of 'scipy.integrate.trapezoid' and will be removed in SciPy 1.14.0\n",
      "  Integrate_delta_like = trapz(y[k,:],x)\n"
     ]
    },
    {
     "name": "stdout",
     "output_type": "stream",
     "text": [
      "epsilon =: 5 ;mass_delta-like: 1.0\n",
      "epsilon =: 10 ;mass_delta-like: 1.0\n",
      "epsilon =: 20 ;mass_delta-like: 0.9999999999999998\n"
     ]
    },
    {
     "data": {
      "text/plain": [
       "[<matplotlib.lines.Line2D at 0x11b951820>]"
      ]
     },
     "execution_count": 10,
     "metadata": {},
     "output_type": "execute_result"
    },
    {
     "data": {
      "text/plain": [
       "<Figure size 640x480 with 0 Axes>"
      ]
     },
     "metadata": {},
     "output_type": "display_data"
    },
    {
     "data": {
      "text/plain": [
       "<Figure size 640x480 with 0 Axes>"
      ]
     },
     "metadata": {},
     "output_type": "display_data"
    },
    {
     "data": {
      "image/png": "[encoded data removed]",
      "text/plain": [
       "<Figure size 640x480 with 1 Axes>"
      ]
     },
     "metadata": {},
     "output_type": "display_data"
    }
   ],
   "source": [
    "y = np.zeros((3,200000))\n",
    "for k in range(0,3):\n",
    "    epsilon = 5*2**k\n",
    "    I_quad = quad(lambda x: Gaussion_Kernel(x), -200, +200)[0]\n",
    "    for i in range(0,200000):\n",
    "        y[k,i] = Dirac_delta_approximation(x[i],epsilon=epsilon,dim=1, mass =  I_quad)\n",
    "    Integrate_delta_like = trapz(y[k,:],x)\n",
    "    print ( \"epsilon =:\", epsilon,\";mass_delta-like:\",Integrate_delta_like)\n",
    "    plt.figure()\n",
    "    #plt.gca().hold(True)\n",
    "    #plt.plot(x,y[k,:])\n",
    "plt.plot(x,y[0,:])\n",
    "plt.plot(x,y[1,:])\n",
    "plt.plot(x,y[2,:])"
   ]
  }
 ],
 "metadata": {
  "kernelspec": {
   "display_name": "Python 3",
   "language": "python",
   "name": "python3"
  },
  "language_info": {
   "codemirror_mode": {
    "name": "ipython",
    "version": 3
   },
   "file_extension": ".py",
   "mimetype": "text/x-python",
   "name": "python",
   "nbconvert_exporter": "python",
   "pygments_lexer": "ipython3",
   "version": "3.12.1"
  }
 },
 "nbformat": 4,
 "nbformat_minor": 2
}
